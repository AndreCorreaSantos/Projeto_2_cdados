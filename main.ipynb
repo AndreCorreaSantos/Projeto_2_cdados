{
 "cells": [
  {
   "cell_type": "code",
   "execution_count": 14,
   "metadata": {},
   "outputs": [
    {
     "name": "stdout",
     "output_type": "stream",
     "text": [
      "144201\n",
      "53.21942986613646\n"
     ]
    }
   ],
   "source": [
    "import pandas as pd\n",
    "import numpy as np\n",
    "import ta \n",
    "from sklearn.linear_model import LogisticRegression\n",
    "import math\n",
    "from funcoes import *\n",
    "pd.options.mode.chained_assignment = None\n",
    "\n",
    "\n",
    "#dados foram baixados de https://www.cryptodatadownload.com/ \n",
    "#indicadores tecnicos de https://www.akademiabaru.com/doc/ARBMSV14_N1_P35_41.pdf\n",
    "#indicadores são:  MACD, RSI, SO, MA, EMA, ROC e VT.\n",
    "\n",
    "\n",
    "nrows = 1000\n",
    "df = pd.read_csv(\"Binance_BTCUSDT_minute.csv\",skiprows=1,nrows=nrows) #lendo somente as 10000 primeiras linhas para salvar processamento enquanto o codigo é desenvolvido\n",
    "#lembrar de remover ultimas 74 rows \n",
    "\n",
    "calculate_indicators(df) #calcula os indicadores no df e retorna uma lista para ser usado no fit do modelo\n",
    "\n",
    "df = df.iloc[25:] #é necessário ignorar as primeiras 25 linhas do dataframe pois alguns indicadores não possuem valores suficientes antes de si e, portanto, assumem valores Nan.\n",
    "x = calc_x(df)\n",
    "\n",
    "row_70 = math.floor(0.7*len(df))\n",
    "\n",
    "\n",
    "#dataframe com 70% das linhas do banco de dados para treinar o modelo, determinar os coeficientes de regressão\n",
    "df_train,x_train = df.iloc[:row_70],x[:row_70]\n",
    "y_train = df_train.change\n",
    "\n",
    "#dataframe com as linhas restantes para testar o modelo\n",
    "df_test,x_test = df.iloc[row_70:],x[row_70:]\n",
    "y_test = df_test.change\n",
    "\n",
    "\n",
    "model = LogisticRegression(max_iter=1000)\n",
    "model.fit(x_train,y_train)\n",
    "coeficientes = list(model.coef_[0])\n",
    "#coeficientes #MACD,SO,RSI,12_SMA,12_EMA,ROC -- > SO e ROC parecem ser pouco importantes. MACD e RSI parecem ser os mais importantes\n",
    "\n",
    "\n",
    "lista_resultados = []\n",
    "for i in x_test:\n",
    "    resultado_row = calcula_p(i,coeficientes)\n",
    "    lista_resultados.append(resultado_row)\n",
    "\n",
    "acertos = 0\n",
    "for i in range(0,len(lista_resultados)):\n",
    "    if lista_resultados[i] >= 0.5 and df_test.iloc[i].change == 1:\n",
    "        acertos += 1\n",
    "    if lista_resultados[i] < 0.5 and df_test.iloc[i].change == 0:\n",
    "        acertos += 1\n",
    "\n",
    "\n",
    "acuracia = (acertos/len(df_train))*100\n",
    "print(acuracia)"
   ]
  }
 ],
 "metadata": {
  "kernelspec": {
   "display_name": "Python 3 (ipykernel)",
   "language": "python",
   "name": "python3"
  },
  "language_info": {
   "codemirror_mode": {
    "name": "ipython",
    "version": 3
   },
   "file_extension": ".py",
   "mimetype": "text/x-python",
   "name": "python",
   "nbconvert_exporter": "python",
   "pygments_lexer": "ipython3",
   "version": "3.9.5"
  }
 },
 "nbformat": 4,
 "nbformat_minor": 5
}
