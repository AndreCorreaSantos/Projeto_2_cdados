{
 "cells": [
  {
   "cell_type": "code",
   "execution_count": 1,
   "id": "e54bfc47",
   "metadata": {},
   "outputs": [],
   "source": [
    "import pandas as pd\n",
    "import numpy as np\n",
    "import math\n",
    "from funcoes import *\n",
    "pd.options.mode.chained_assignment = None\n",
    "\n",
    "#dados foram baixados de https://www.cryptodatadownload.com/ \n",
    "#indicadores tecnicos de https://www.akademiabaru.com/doc/ARBMSV14_N1_P35_41.pdf\n",
    "#indicadores são:  MACD, RSI, SO, MA, EMA, ROC e VT.\n",
    "\n",
    "\n",
    "acuracias = []\n",
    "\n",
    "df = pd.read_csv(\"Binance_BTCUSDT_minute.csv\",skiprows=1,nrows=2000) \n",
    "\n",
    "calculate_indicators(df) #calcula os indicadores no df e retorna uma lista para ser usado no fit do modelo\n",
    "\n",
    "df = df.dropna(axis=0,how=\"any\")\n",
    "x,y = get_x_y(df)\n"
   ]
  },
  {
   "cell_type": "code",
   "execution_count": 2,
   "id": "d2c29e96",
   "metadata": {},
   "outputs": [
    {
     "name": "stdout",
     "output_type": "stream",
     "text": [
      "1975\n",
      "1975\n",
      "70.25641025641025\n"
     ]
    }
   ],
   "source": [
    "interval = 1000 #decidir qual o melhor interval\n",
    "print(len(x))\n",
    "print(len(y))\n",
    "acertos = 0\n",
    "lista_resultados = []\n",
    "for i in range(interval,len(x)):\n",
    "    #row_70 = math.floor(0.7*interval)+(i*interval)\n",
    "\n",
    "    x_train,y_train = x[i-interval:i],y[i-interval:i]\n",
    "    x_test = x[i]\n",
    "    \n",
    "\n",
    "    model = LogisticRegression(max_iter=1000)\n",
    "    model.fit(x_train,y_train)\n",
    "    coeficientes = list(model.coef_[0])\n",
    "\n",
    "\n",
    "    #lista_resultados = []\n",
    "    #for i in x_test:\n",
    "    lista_resultados.append(calcula_p(x_test,coeficientes))\n",
    "    \n",
    "y = y[interval:] #retirando os primeiros 30 elementos do y para poder comparar a lista de resultados usando o mesmo indice.\n",
    "    \n",
    "for i in range(0,len(lista_resultados)):\n",
    "    if lista_resultados[i] >= 0.5 and y[i] == 1:\n",
    "        acertos += 1\n",
    "    if lista_resultados[i] < 0.5 and y[i] == 0:\n",
    "        acertos += 1\n",
    "\n",
    "print(acertos/len(y)*100)\n"
   ]
  }
 ],
 "metadata": {
  "interpreter": {
   "hash": "1d699d777ee69141fba663d9f9c6d16862b3efc9df34970effb09a39e215af04"
  },
  "kernelspec": {
   "display_name": "Python 3.8.5 64-bit ('base': conda)",
   "name": "python3"
  },
  "language_info": {
   "codemirror_mode": {
    "name": "ipython",
    "version": 3
   },
   "file_extension": ".py",
   "mimetype": "text/x-python",
   "name": "python",
   "nbconvert_exporter": "python",
   "pygments_lexer": "ipython3",
   "version": "3.9.5"
  }
 },
 "nbformat": 4,
 "nbformat_minor": 5
}
