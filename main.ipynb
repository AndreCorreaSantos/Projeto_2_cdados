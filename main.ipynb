{
 "cells": [
  {
   "cell_type": "code",
   "execution_count": 94,
   "id": "e54bfc47",
   "metadata": {},
   "outputs": [],
   "source": [
    "import pandas as pd\n",
    "import numpy as np\n",
    "import math\n",
    "from funcoes import *\n",
    "pd.options.mode.chained_assignment = None\n",
    "\n",
    "\n",
    "#dados foram baixados de https://www.cryptodatadownload.com/ \n",
    "#indicadores tecnicos de https://www.akademiabaru.com/doc/ARBMSV14_N1_P35_41.pdf\n",
    "#indicadores são:  MACD, RSI, SO, MA, EMA, ROC e VT.\n",
    "\n",
    "nrows = 422000 #Algum valor NA entre 421875 e 500000 , 400000 acuracia chega à 69%  421875\n",
    "interval = 1000\n",
    "acuracias = []\n",
    "\n",
    "df = pd.read_csv(\"Binance_BTCUSDT_minute.csv\",skiprows=1,nrows=nrows) #lendo somente as 10000 primeiras linhas para salvar processamento enquanto o codigo é desenvolvido\n",
    "calculate_indicators(df) #calcula os indicadores no df e retorna uma lista para ser usado no fit do modelo\n",
    "\n",
    "df = df.iloc[25:] #é necessário ignorar as primeiras 25 linhas do dataframe pois alguns indicadores não possuem valores suficientes antes de si e, portanto, assumem valores Nan.\n",
    "x = calc_x(df)\n",
    "y = list(df.change)\n",
    "\n",
    "\n",
    "\n",
    "#lembrar de remover ultimas 74 rows "
   ]
  },
  {
   "cell_type": "code",
   "execution_count": null,
   "id": "d2c29e96",
   "metadata": {},
   "outputs": [
    {
     "name": "stdout",
     "output_type": "stream",
     "text": [
      "68.12698412698413\n"
     ]
    }
   ],
   "source": [
    "\n",
    "for i in range(0,int(nrows/interval)):\n",
    "    \n",
    "    row_70 = math.floor(0.7*interval)+(i*interval)\n",
    "\n",
    "    x_train,y_train = x[interval*i:row_70],y[interval*i:row_70]\n",
    "    x_test,y_test = x[row_70:interval*(i+1)],y[row_70:interval*(i+1)]\n",
    "    \n",
    "\n",
    "    model = LogisticRegression(max_iter=1000)\n",
    "    model.fit(x_train,y_train)\n",
    "    coeficientes = list(model.coef_[0])\n",
    "\n",
    "\n",
    "    lista_resultados = []\n",
    "    for i in x_test:\n",
    "        resultado_row = calcula_p(i,coeficientes)\n",
    "        lista_resultados.append(resultado_row)\n",
    "    \n",
    "\n",
    "    acertos = 0\n",
    "    for i in range(0,len(lista_resultados)):\n",
    "        if lista_resultados[i] >= 0.5 and y_test[i] == 1:\n",
    "            acertos += 1\n",
    "        if lista_resultados[i] < 0.5 and y_test[i] == 0:\n",
    "            acertos += 1\n",
    "\n",
    "\n",
    "    acuracia = (acertos/len(y_test))\n",
    "    acuracias.append(acuracia)\n",
    "\n",
    "print(np.mean(acuracias)*100)\n"
   ]
  }
 ],
 "metadata": {
  "kernelspec": {
   "display_name": "Python 3 (ipykernel)",
   "language": "python",
   "name": "python3"
  },
  "language_info": {
   "codemirror_mode": {
    "name": "ipython",
    "version": 3
   },
   "file_extension": ".py",
   "mimetype": "text/x-python",
   "name": "python",
   "nbconvert_exporter": "python",
   "pygments_lexer": "ipython3",
   "version": "3.9.5"
  }
 },
 "nbformat": 4,
 "nbformat_minor": 5
}
