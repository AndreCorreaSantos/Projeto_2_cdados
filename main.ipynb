{
 "cells": [
  {
   "cell_type": "code",
   "execution_count": 8,
   "id": "e54bfc47",
   "metadata": {},
   "outputs": [],
   "source": [
    "import pandas as pd\n",
    "import numpy as np\n",
    "import math\n",
    "from funcoes import *\n",
    "from tqdm import tqdm\n",
    "pd.options.mode.chained_assignment = None\n",
    "#dados foram baixados de https://www.cryptodatadownload.com/data/binance/\n",
    "#indicadores tecnicos de https://www.akademiabaru.com/doc/ARBMSV14_N1_P35_41.pdf\n",
    "#indicadores são:  MACD, RSI, SO, MA, EMA, ROC e VT.\n"
   ]
  },
  {
   "cell_type": "markdown",
   "id": "a01525ff",
   "metadata": {},
   "source": [
    "Organizando dataframe de BTC para intervalos de 1 minuto"
   ]
  },
  {
   "cell_type": "code",
   "execution_count": 4,
   "id": "bec50037",
   "metadata": {},
   "outputs": [],
   "source": [
    "\n",
    "acuracias = []\n",
    "nrows = 10000\n",
    "df = pd.read_csv(\"Binance_BTCUSDT_minute.csv\",skiprows=1,nrows=nrows) \n",
    "\n",
    "calculate_indicators(df) #calcula os indicadores no df e retorna uma lista para ser usado no fit do modelo\n",
    "\n",
    "df = df.dropna(axis=0,how=\"any\")\n",
    "x,y = get_x_y(df)\n"
   ]
  },
  {
   "cell_type": "code",
   "execution_count": 5,
   "id": "d2c29e96",
   "metadata": {},
   "outputs": [
    {
     "name": "stdout",
     "output_type": "stream",
     "text": [
      "70.25641025641025\n"
     ]
    }
   ],
   "source": [
    "interval = 1000 #decidir qual o melhor interval\n",
    "\n",
    "acertos = 0\n",
    "lista_resultados = []\n",
    "for i in tqdm(range(interval,len(x))):\n",
    "    #row_70 = math.floor(0.7*interval)+(i*interval)\n",
    "\n",
    "    x_train,y_train = x[i-interval:i],y[i-interval:i]\n",
    "    x_test = x[i]\n",
    "    \n",
    "\n",
    "    coeficientes = calc_coefs(x_train,y_train)\n",
    "\n",
    "\n",
    "    #lista_resultados = []\n",
    "    #for i in x_test:\n",
    "    lista_resultados.append(calcula_p(x_test,coeficientes))\n",
    "    \n",
    "y = y[interval:] #retirando os primeiros 30 elementos do y para poder comparar a lista de resultados usando o mesmo indice.\n",
    "    \n",
    "for i in range(0,len(lista_resultados)):\n",
    "    if lista_resultados[i] >= 0.5 and y[i] == 1:\n",
    "        acertos += 1\n",
    "    if lista_resultados[i] < 0.5 and y[i] == 0:\n",
    "        acertos += 1\n",
    "\n",
    "print(acertos/len(y)*100)\n"
   ]
  },
  {
   "cell_type": "markdown",
   "id": "58adddce",
   "metadata": {},
   "source": [
    "Teste Para intervalos de 1 hora"
   ]
  },
  {
   "cell_type": "code",
   "execution_count": 17,
   "id": "371060a7",
   "metadata": {},
   "outputs": [],
   "source": [
    "acuracias = []\n",
    "\n",
    "df = pd.read_csv(\"Binance_BTCUSDT_1h.csv\",skiprows=1)\n",
    "calculate_indicators(df)\n",
    "df = df.dropna(axis=0,how=\"any\")\n",
    "x,y = get_x_y(df)"
   ]
  },
  {
   "cell_type": "code",
   "execution_count": 18,
   "id": "f4819c8c",
   "metadata": {},
   "outputs": [
    {
     "name": "stderr",
     "output_type": "stream",
     "text": [
      "  0%|          | 0/99 [00:00<?, ?it/s]"
     ]
    }
   ],
   "source": [
    "#interval = 1000 \n",
    "\n",
    "lista_acuracias = []\n",
    "step = 100\n",
    "for interval in tqdm(range(100,10000,step)):\n",
    "    acertos = 0\n",
    "    lista_resultados = []\n",
    "    for i in range(interval,len(x)):\n",
    "\n",
    "\n",
    "        x_train,y_train = x[i-interval:i],y[i-interval:i]\n",
    "        x_test = x[i]\n",
    "\n",
    "\n",
    "        coeficientes = calc_coefs(x_train,y_train)\n",
    "\n",
    "        lista_resultados.append(calcula_p(x_test,coeficientes))\n",
    "\n",
    "    y = y[interval:]\n",
    "\n",
    "    for i in range(0,len(lista_resultados)):\n",
    "        if lista_resultados[i] >= 0.5 and y[i] == 1:\n",
    "            acertos += 1\n",
    "        if lista_resultados[i] < 0.5 and y[i] == 0:\n",
    "            acertos += 1\n",
    "\n",
    "    #print(acertos/len(y)*100)\n",
    "    lista_acuracias.append(acertos/len(y)*100)\n",
    "    print(1)\n",
    "print((lista_acuracias.index(max(lista_acuracias))+1)*step)"
   ]
  },
  {
   "cell_type": "markdown",
   "id": "6cd4f827",
   "metadata": {},
   "source": [
    "Testando para ETH (criptomoeda da blockchain ethereum)"
   ]
  },
  {
   "cell_type": "code",
   "execution_count": 13,
   "id": "45d8b89b",
   "metadata": {},
   "outputs": [],
   "source": [
    "acuracias = []\n",
    "nrows = 10000\n",
    "df = pd.read_csv(\"Binance_ETHUSDT_minute.csv\",skiprows=1,nrows=nrows)\n",
    "calculate_indicators(df)\n",
    "df = df.dropna(axis=0,how=\"any\")\n",
    "x,y = get_x_y(df)"
   ]
  },
  {
   "cell_type": "code",
   "execution_count": 14,
   "id": "e939c592",
   "metadata": {},
   "outputs": [
    {
     "name": "stderr",
     "output_type": "stream",
     "text": [
      "100%|██████████| 8975/8975 [02:53<00:00, 51.82it/s]"
     ]
    },
    {
     "name": "stdout",
     "output_type": "stream",
     "text": [
      "71.10863509749304\n"
     ]
    },
    {
     "name": "stderr",
     "output_type": "stream",
     "text": [
      "\n"
     ]
    }
   ],
   "source": [
    "interval = 1000 \n",
    "\n",
    "acertos = 0\n",
    "lista_resultados = []\n",
    "for i in tqdm(range(interval,len(x))):\n",
    "\n",
    "\n",
    "    x_train,y_train = x[i-interval:i],y[i-interval:i]\n",
    "    x_test = x[i]\n",
    "    \n",
    "\n",
    "    coeficientes = calc_coefs(x_train,y_train)\n",
    "\n",
    "    lista_resultados.append(calcula_p(x_test,coeficientes))\n",
    "    \n",
    "y = y[interval:]\n",
    "    \n",
    "for i in range(0,len(lista_resultados)):\n",
    "    if lista_resultados[i] >= 0.5 and y[i] == 1:\n",
    "        acertos += 1\n",
    "    if lista_resultados[i] < 0.5 and y[i] == 0:\n",
    "        acertos += 1\n",
    "\n",
    "print(acertos/len(y)*100)"
   ]
  },
  {
   "cell_type": "markdown",
   "id": "e99f074c",
   "metadata": {},
   "source": [
    "Teste de ETH para intervalos de 1 hora."
   ]
  },
  {
   "cell_type": "code",
   "execution_count": 15,
   "id": "1638f736",
   "metadata": {},
   "outputs": [],
   "source": [
    "acuracias = []\n",
    "nrows = 10000\n",
    "df = pd.read_csv(\"Binance_ETHUSDT_1h.csv\",skiprows=1,nrows=nrows)\n",
    "calculate_indicators(df)\n",
    "df = df.dropna(axis=0,how=\"any\")\n",
    "x,y = get_x_y(df)"
   ]
  },
  {
   "cell_type": "code",
   "execution_count": 16,
   "id": "636e4922",
   "metadata": {},
   "outputs": [
    {
     "name": "stderr",
     "output_type": "stream",
     "text": [
      "100%|██████████| 8415/8415 [02:35<00:00, 54.16it/s]"
     ]
    },
    {
     "name": "stdout",
     "output_type": "stream",
     "text": [
      "65.56149732620321\n"
     ]
    },
    {
     "name": "stderr",
     "output_type": "stream",
     "text": [
      "\n"
     ]
    }
   ],
   "source": [
    "interval = 1000 \n",
    "\n",
    "acertos = 0\n",
    "lista_resultados = []\n",
    "for i in tqdm(range(interval,len(x))):\n",
    "\n",
    "\n",
    "    x_train,y_train = x[i-interval:i],y[i-interval:i]\n",
    "    x_test = x[i]\n",
    "    \n",
    "\n",
    "    coeficientes = calc_coefs(x_train,y_train)\n",
    "\n",
    "    lista_resultados.append(calcula_p(x_test,coeficientes))\n",
    "    \n",
    "y = y[interval:]\n",
    "    \n",
    "for i in range(0,len(lista_resultados)):\n",
    "    if lista_resultados[i] >= 0.5 and y[i] == 1:\n",
    "        acertos += 1\n",
    "    if lista_resultados[i] < 0.5 and y[i] == 0:\n",
    "        acertos += 1\n",
    "\n",
    "print(acertos/len(y)*100)"
   ]
  }
 ],
 "metadata": {
  "interpreter": {
   "hash": "1d699d777ee69141fba663d9f9c6d16862b3efc9df34970effb09a39e215af04"
  },
  "kernelspec": {
   "display_name": "Python 3.8.5 64-bit ('base': conda)",
   "name": "python3"
  },
  "language_info": {
   "codemirror_mode": {
    "name": "ipython",
    "version": 3
   },
   "file_extension": ".py",
   "mimetype": "text/x-python",
   "name": "python",
   "nbconvert_exporter": "python",
   "pygments_lexer": "ipython3",
   "version": "3.9.5"
  }
 },
 "nbformat": 4,
 "nbformat_minor": 5
}
