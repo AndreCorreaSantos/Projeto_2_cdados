{
 "cells": [
  {
   "cell_type": "code",
   "execution_count": 102,
   "metadata": {},
   "outputs": [
    {
     "data": {
      "text/plain": [
       "14"
      ]
     },
     "execution_count": 102,
     "metadata": {},
     "output_type": "execute_result"
    }
   ],
   "source": [
    "import pandas as pd\n",
    "import numpy as np\n",
    "import ta \n",
    "import math\n",
    "\n",
    "\n",
    "#dados foram baixados de https://www.cryptodatadownload.com/ \n",
    "#indicadores tecnicos de https://www.akademiabaru.com/doc/ARBMSV14_N1_P35_41.pdf\n",
    "#indicadores são:  MACD, RSI, SO, MA, EMA, ROC e VT.\n",
    "\n",
    "\n",
    "df = pd.read_csv(\"Binance_BTCUSDT_minute.csv\",skiprows=1,nrows=10000) #lendo somente as 10000 primeiras linhas para salvar processamento enquanto o codigo é desenvolvido\n",
    "#lembrar de remover ultimas 74 rows\n",
    "\n",
    "\n",
    "#convertendo colunas numericas do dataframe para os tipos corretos\n",
    "keys_ = [i for i in df.keys()][3:9]\n",
    "for key in keys_:\n",
    "    pd.to_numeric(df[key])\n",
    "\n",
    "#calculando os indicadores\n",
    "\n",
    "\n",
    "#1 - MACD \n",
    "df[\"MACD\"] = ta.trend.macd(close=df.close) # Nas primeiras 26 linhas MACD retorna nan, pois precisa de 26 elementos.\n",
    "\n",
    "#2 - RSI lembrar de ajustar window para melhorar resultados. Lembrar que nas primeiras 14 linhas RSI = nan, pois ele precisa de 14 elementos anteriores.\n",
    "RSI_window = 14\n",
    "df[\"RSI\"] = ta.momentum.rsi(df.close,window=RSI_window)\n",
    "\n",
    "\n",
    "#3 - stochastic oscillator (SO)\n",
    "SO_window = 14\n",
    "df[\"SO\"] = ta.momentum.StochasticOscillator(close=df.close,high=df.high,low=df.low,window=SO_window)\n",
    "\n",
    "#3 - Simple moving average (SMA)\n",
    "\n",
    "df[\"12_SMA\"] = ta.trend.SMAIndicator(close=df.close,window=12)\n",
    "df[\"26_SMA\"] = ta.trend.SMAIndicator(close=df.close,window=26)\n",
    "\n",
    "#4 - Exponential moving average (EMA)\n",
    "\n",
    "df[\"12_EMA\"] = ta.trend.EMAIndicator(close=df.close,window=12)\n",
    "df[\"26_EMA\"] = ta.trend.EMAIndicator(close=df.close,window=26)\n",
    "\n",
    "#5 - Rate of change (ROC)\n",
    "ROC_window = 24 #definir window direito (minima ideia qual window tem que meter aqui)\n",
    "df[\"ROC\"] = ta.momentum.ROCIndicator(close=df.close,window=ROC_window)\n",
    "\n",
    "\n",
    "#6 - indicadores de volume, mineração de btc e remuneração dos mineradores\n",
    "\n",
    "# adicionando coluna que possui 0, caso o ultimo close seja > que o close atual e 1 caso o contrário\n",
    "\n",
    "change = [0]\n",
    "for i in range(1,len(df)):\n",
    "    diff = df.iloc[i].close- df.iloc[i-1].close\n",
    "    if diff >= 0 :\n",
    "        change.append(1)\n",
    "    if diff < 0:\n",
    "        change.append(0)\n",
    "\n",
    "df[\"change\"] = change\n",
    "\n",
    "   \n",
    "\n",
    "\n",
    "\n",
    "\n",
    "\n",
    "\n",
    "    \n"
   ]
  }
 ],
 "metadata": {
  "kernelspec": {
   "display_name": "Python 3 (ipykernel)",
   "language": "python",
   "name": "python3"
  },
  "language_info": {
   "codemirror_mode": {
    "name": "ipython",
    "version": 3
   },
   "file_extension": ".py",
   "mimetype": "text/x-python",
   "name": "python",
   "nbconvert_exporter": "python",
   "pygments_lexer": "ipython3",
   "version": "3.9.5"
  }
 },
 "nbformat": 4,
 "nbformat_minor": 5
}
