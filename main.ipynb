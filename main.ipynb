{
 "cells": [
  {
   "cell_type": "code",
   "execution_count": 34,
   "metadata": {},
   "outputs": [
    {
     "name": "stdout",
     "output_type": "stream",
     "text": [
      "70\n",
      "30\n"
     ]
    },
    {
     "name": "stderr",
     "output_type": "stream",
     "text": [
      "C:\\Users\\marce\\AppData\\Local\\Programs\\Python\\Python39\\lib\\site-packages\\sklearn\\linear_model\\_logistic.py:763: ConvergenceWarning: lbfgs failed to converge (status=1):\n",
      "STOP: TOTAL NO. of ITERATIONS REACHED LIMIT.\n",
      "\n",
      "Increase the number of iterations (max_iter) or scale the data as shown in:\n",
      "    https://scikit-learn.org/stable/modules/preprocessing.html\n",
      "Please also refer to the documentation for alternative solver options:\n",
      "    https://scikit-learn.org/stable/modules/linear_model.html#logistic-regression\n",
      "  n_iter_i = _check_optimize_result(\n"
     ]
    },
    {
     "data": {
      "text/plain": [
       "[-0.17788770955276761,\n",
       " -0.011084236237128885,\n",
       " 0.7804994278204458,\n",
       " 0.1533690864754773,\n",
       " -0.1539574489132077,\n",
       " 0.036331484860568745]"
      ]
     },
     "execution_count": 34,
     "metadata": {},
     "output_type": "execute_result"
    }
   ],
   "source": [
    "import pandas as pd\n",
    "import numpy as np\n",
    "import ta \n",
    "from sklearn.linear_model import LogisticRegression\n",
    "import math\n",
    "pd.options.mode.chained_assignment = None\n",
    "\n",
    "\n",
    "#dados foram baixados de https://www.cryptodatadownload.com/ \n",
    "#indicadores tecnicos de https://www.akademiabaru.com/doc/ARBMSV14_N1_P35_41.pdf\n",
    "#indicadores são:  MACD, RSI, SO, MA, EMA, ROC e VT.\n",
    "\n",
    "\n",
    "df = pd.read_csv(\"Binance_BTCUSDT_minute.csv\",skiprows=1,nrows=100) #lendo somente as 10000 primeiras linhas para salvar processamento enquanto o codigo é desenvolvido\n",
    "#lembrar de remover ultimas 74 rows \n",
    "\n",
    "row_70 = math.floor(0.7*len(df))\n",
    "\n",
    "\n",
    "#dataframe com 70% das linhas do banco de dados para treinar o modelo, determinar os coeficientes de regressão\n",
    "df_train = df.iloc[:row_70]\n",
    "\n",
    "#dataframe com as linhas restantes para testar o modelo\n",
    "df_test = df.iloc[row_70:]\n",
    "\n",
    "\n",
    "#calculando os indicadores\n",
    "\n",
    "#1 - MACD \n",
    "df_train[\"MACD\"] = ta.trend.macd(close=df_train.close) # Nas primeiras 26 linhas MACD retorna nan, pois precisa de 26 elementos.\n",
    "\n",
    "#2 - RSI lembrar de ajustar window para melhorar resultados. Lembrar que nas primeiras 14 linhas RSI = nan, pois ele precisa de 14 elementos anteriores.\n",
    "RSI_window = 14\n",
    "df_train[\"RSI\"] = ta.momentum.rsi(df_train.close,window=RSI_window)\n",
    "\n",
    "\n",
    "#3 - stochastic oscillator (SO)\n",
    "SO_window = 14\n",
    "df_train[\"SO\"] = ta.momentum.stoch(close=df_train.close,high=df_train.high,low=df_train.low,window=SO_window)\n",
    "\n",
    "#3 - Simple moving average (SMA)\n",
    "\n",
    "df_train[\"12_SMA\"] = ta.trend.sma_indicator(close=df_train.close,window=12)\n",
    "df_train[\"26_SMA\"] = ta.trend.sma_indicator(close=df_train.close,window=26)\n",
    "\n",
    "#4 - Exponential moving average (EMA)\n",
    "\n",
    "df_train[\"12_EMA\"] = ta.trend.ema_indicator(close=df_train.close,window=12)\n",
    "df_train[\"26_EMA\"] = ta.trend.ema_indicator(close=df_train.close,window=26)\n",
    "\n",
    "#5 - Rate of change (ROC)\n",
    "ROC_window = 24 #definir window direito (minima ideia qual window tem que meter aqui)\n",
    "df_train[\"ROC\"] = ta.momentum.roc(close=df_train.close,window=ROC_window)\n",
    "\n",
    "\n",
    "#6 - indicadores de volume, mineração de btc e remuneração dos mineradores\n",
    "\n",
    "# adicionando coluna que possui 0, caso o ultimo close seja > que o close atual e 1 caso o contrário\n",
    "\n",
    "change = [0]\n",
    "x = [] #para de ter nan a partir de 24\n",
    "for i in range(0,len(df_train)):\n",
    "    x.append([df_train.iloc[i].MACD,df_train.iloc[i].SO,df_train.iloc[i].RSI,df_train.iloc[i][\"12_SMA\"],df_train.iloc[i][\"12_EMA\"],df_train.iloc[i].ROC])\n",
    "    if i != 0:\n",
    "        diff = df_train.iloc[i].close- df_train.iloc[i-1].close\n",
    "        if diff >= 0 :\n",
    "            change.append(1)\n",
    "        if diff < 0:\n",
    "            change.append(0)\n",
    "\n",
    "df_train[\"change\"] = change\n",
    "\n",
    "\n",
    "#é necessário ignorar as primeiras 25 linhas do dataframe pois alguns indicadores não possuem valores suficientes antes de si e, portanto, assumem valores Nan.\n",
    "y = list(df_train[\"change\"])[25:]\n",
    "x = x[25:]\n",
    "\n",
    "\n",
    "model = LogisticRegression()\n",
    "model.fit(x,y)\n",
    "coeficientes = list(model.coef_[0])\n",
    "coeficientes\n",
    "\n"
   ]
  }
 ],
 "metadata": {
  "kernelspec": {
   "display_name": "Python 3 (ipykernel)",
   "language": "python",
   "name": "python3"
  },
  "language_info": {
   "codemirror_mode": {
    "name": "ipython",
    "version": 3
   },
   "file_extension": ".py",
   "mimetype": "text/x-python",
   "name": "python",
   "nbconvert_exporter": "python",
   "pygments_lexer": "ipython3",
   "version": "3.9.5"
  }
 },
 "nbformat": 4,
 "nbformat_minor": 5
}
